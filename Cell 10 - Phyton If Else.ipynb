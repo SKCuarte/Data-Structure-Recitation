#Cell 10
#Phyton If Else

x = 17
y =  93

if x < y:
   print("x is less than y")
elif x == y:
    print("x is equal to y")
else:
    print("x is greater than y")