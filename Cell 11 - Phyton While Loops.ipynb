#Cell 11
#Phyton While Loops

i = 2

while i < 7:
 print(i)
 if i == 7:
  break
 i += 1
