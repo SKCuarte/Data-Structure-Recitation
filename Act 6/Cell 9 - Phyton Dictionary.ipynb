#Cell 9
#Phyton Dictiornary

dict1 = {
    "Name" : "Kyan",
    "Age" : "18",
    "Address" : "Manila"
}
print(dict1)
print(len(dict1))
print(type(dict1))