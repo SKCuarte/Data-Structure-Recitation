#Cell 4
#Data Types

x = 10

y = "Hello"

z = ["Hey", "Hello", "Goodmorning", "Hi"]

print(type(x))

print(type(y))

print(type(z))


