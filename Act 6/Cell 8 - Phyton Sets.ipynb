#Cell 8
#Phyton Sets

set1 = {"Manila", "Bond", "Coloured", "Cardboard", "Construction", "Kraft"}
print(set1)
print(len(set1))
print(type(set1))