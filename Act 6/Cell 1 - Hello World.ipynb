#Cell 1
#print_hello_world
print("Hello World")