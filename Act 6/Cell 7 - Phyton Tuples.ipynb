#Cell 7
#Phyton tuples

tuple1 = ("Jonh", "Mary", "Dean", "Sam", "Jack")
tuple2 = ("Dean", )
print(tuple1)
print(len(tuple1))
print(type(tuple2))
