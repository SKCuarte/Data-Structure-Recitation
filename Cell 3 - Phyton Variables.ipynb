#Cell 3
#Phyton Variables

x = 12
Y = 21
print(x)
print(Y)