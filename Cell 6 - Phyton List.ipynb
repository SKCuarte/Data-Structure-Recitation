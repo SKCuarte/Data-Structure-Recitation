#Cell 6
#Phyton List

Paper = ["Manila", "Bond", "Coloured", "Cardboard", "Construction", "Kraft"]

print(Paper)
print(Paper[3])