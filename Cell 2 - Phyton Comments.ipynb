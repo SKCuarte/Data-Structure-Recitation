#Cell 2
#Phyton comments

#This is a comment

"""
This is
also a comment
written in one line
"""

print("Hi")