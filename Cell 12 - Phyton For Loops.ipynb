#Cell 12
#Phyton For Loops

Loops = ["Manila", "Bond", "Coloured", "Cardboard", "Construction", "Kraft"]
for x in Loops:
  print(x)