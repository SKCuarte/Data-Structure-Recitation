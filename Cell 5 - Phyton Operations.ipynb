#Cell 5
#Phyton Operations

x = 3
y = 5

print(5 + 3)
print(5 * 3)
print(x + y)
print(x * y)
